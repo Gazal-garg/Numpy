{
 "cells": [
  {
   "cell_type": "markdown",
   "metadata": {
    "colab_type": "text",
    "id": "AMeouunoApr_"
   },
   "source": []
  },
  {
   "cell_type": "markdown",
   "metadata": {
    "colab_type": "text",
    "id": "HHEofVKhbKOJ"
   },
   "source": [
    "Let me tell you a story, Once a statistician was lost in a jungle. It was pitch dark. Nothing could be seen around. The statistician was afraid but he kept moving. Suddenly, he saw a small house. He went there and knocked on the door. Someone opened the door. \n",
    "\n",
    "Guess what was the first question that came out of the statistician's mouth...\n",
    "\n",
    "Bhaiya, yahan kahin aas paas Normal Distribution milega?\n",
    "\n",
    "That's how important Normal distribution is in a Statistician's (read, Data Analyst) life. Whenever a statistician is lost in an analysis, his/her first response is to reach or find a normal distribution somewhere. \n",
    "\n",
    "![alt teat](https://media2.giphy.com/media/maIEBUU5OmrMA/source.gif)\n",
    "\n",
    "Although, we are going to study Normal Distribution in future episodes:). Today I want you to get a feel of the Normal/Gaussian Distribution."
   ]
  },
  {
   "cell_type": "markdown",
   "metadata": {
    "colab_type": "text",
    "id": "udWaNZcNehRo"
   },
   "source": [
    "In a normal distribution, there are 2 things of utmost importance, Mean and the Standard Deviation. ([Read more about Normal Distribution here](https://en.wikipedia.org/wiki/Normal_distribution)).\n",
    "\n",
    "I want you to create a function which takes 2 inputs - the Mean and Standard Deviation and prints out the graph of the Normal Distribution (also known as PDF, you will find the formula in the wiki article). Assume x is given and calculate y using the pdf formula. The resultant graph would look something like this (any one of them):!\n",
    "\n",
    "![](https://upload.wikimedia.org/wikipedia/commons/thumb/7/74/Normal_Distribution_PDF.svg/340px-Normal_Distribution_PDF.svg.png)"
   ]
  },
  {
   "cell_type": "code",
   "execution_count": 0,
   "metadata": {
    "colab": {
     "base_uri": "https://localhost:8080/",
     "height": 281
    },
    "colab_type": "code",
    "id": "fhPRbXGiXaoK",
    "outputId": "4f13b831-61d6-4d03-d720-58fbbde4951c"
   },
   "outputs": [
    {
     "data": {
      "image/png": "[encoded data removed]",
      "text/plain": [
       "<Figure size 432x288 with 1 Axes>"
      ]
     },
     "metadata": {
      "tags": []
     },
     "output_type": "display_data"
    }
   ],
   "source": [
    "import numpy as np\n",
    "import matplotlib.pyplot as plt\n",
    "import math\n",
    "%matplotlib inline\n",
    "\n",
    "# Write function code here\n",
    "def plotter(meanValue, sdValue):\n",
    "  x=np.linspace(-10,10,100)\n",
    "  v= 2 * sdValue * sdValue\n",
    "  t=(x-meanValue)\n",
    "  r=np.power(t,2)\n",
    "  t=-((r/v))\n",
    "  p=np.exp(t)\n",
    "  pdf=(p/(sdValue * math.sqrt(2 *3.14)))#pdf is y\n",
    "  plt.plot(x,pdf)\n",
    "  plt.title(\"Normal Distribution Graph\")\n",
    "plotter(0,5)\n",
    "\n",
    "\n",
    "\n",
    " \n"
   ]
  },
  {
   "cell_type": "code",
   "execution_count": 0,
   "metadata": {
    "colab": {},
    "colab_type": "code",
    "id": "p9x7LVMBgs43"
   },
   "outputs": [],
   "source": [
    "# You have write a function which takes 2 numpy array as input and returns \"Hoga\" or \"Nahi Hoga\" \n",
    "# depending on if broadcasting is possible on those two arrays"
   ]
  },
  {
   "cell_type": "code",
   "execution_count": 0,
   "metadata": {
    "colab": {},
    "colab_type": "code",
    "id": "OeqqLtBBAfrj"
   },
   "outputs": [],
   "source": [
    "# Write your logic here\n",
    "\n",
    "def hoga_ki_nahi(arr1,arr2) :\n",
    "    if(arr1.ndim == 1 or arr2.ndim ==1) :\n",
    "      if((arr1.ndim == 1 and (arr1.shape[0] == arr2.shape[0] or arr1.shape[0] == arr2.shape[1])) or (arr2.ndim == 1 and (arr2.shape[0] == arr1.shape[0] or arr2.shape[0] == arr1.shape[1]))) :\n",
    "          return \"Hoga\"\n",
    "      else:\n",
    "        return \"Nahi Hoga\"\n",
    "    else :\n",
    "      a = arr1.shape[0]\n",
    "      b = arr1.shape[1]\n",
    "      c = arr2.shape[0]\n",
    "      d = arr2.shape[1]\n",
    "    if(a == c and b == d) :\n",
    "      return \"Hoga\"\n",
    "    elif((a == 1 and b == d) or (b == 1 and a == c) or (c == 1 and d == b) or (d == 1 and a == c)):\n",
    "      return \"Hoga\"\n",
    "    elif((a == 1 and d == 1 and b == c) or (b == 1 and c == 1 and d == n)):\n",
    "      return \"Hoga\"\n",
    "    else:\n",
    "      return \"Nahi Hoga\"\n",
    "\n"
   ]
  },
  {
   "cell_type": "code",
   "execution_count": 3,
   "metadata": {
    "colab": {
     "base_uri": "https://localhost:8080/",
     "height": 34
    },
    "colab_type": "code",
    "id": "dPsWnAtDAg4B",
    "outputId": "15cebf4f-91ea-4db0-8bf1-a2d3dbfc07cf"
   },
   "outputs": [
    {
     "data": {
      "text/plain": [
       "'Hoga'"
      ]
     },
     "execution_count": 3,
     "metadata": {
      "tags": []
     },
     "output_type": "execute_result"
    }
   ],
   "source": [
    "#TEST FUNCTION\n",
    "import numpy as np\n",
    "arr1 = np.arange(8).reshape(2,4)\n",
    "arr2 = np.arange(8, 16).reshape(2,4)\n",
    "hoga_ki_nahi(arr1, arr2)\n",
    "     "
   ]
  },
  {
   "cell_type": "code",
   "execution_count": 4,
   "metadata": {
    "colab": {
     "base_uri": "https://localhost:8080/",
     "height": 34
    },
    "colab_type": "code",
    "id": "8TRFmY4xEvDz",
    "outputId": "d1a19c6a-24a3-41fc-d029-40c95191a410"
   },
   "outputs": [
    {
     "data": {
      "text/plain": [
       "'Hoga'"
      ]
     },
     "execution_count": 4,
     "metadata": {
      "tags": []
     },
     "output_type": "execute_result"
    }
   ],
   "source": [
    "arr1 = np.arange(6).reshape(2,3)\n",
    "arr2 = np.arange(3).reshape(1,3)\n",
    "hoga_ki_nahi(arr1, arr2)"
   ]
  },
  {
   "cell_type": "code",
   "execution_count": 5,
   "metadata": {
    "colab": {
     "base_uri": "https://localhost:8080/",
     "height": 34
    },
    "colab_type": "code",
    "id": "FtBV-hPlE1Gp",
    "outputId": "83bcff99-b47b-40a0-a98b-30410b44f428"
   },
   "outputs": [
    {
     "data": {
      "text/plain": [
       "'Hoga'"
      ]
     },
     "execution_count": 5,
     "metadata": {
      "tags": []
     },
     "output_type": "execute_result"
    }
   ],
   "source": [
    "arr1 = np.arange(3).reshape(1,3)\n",
    "arr2 = np.arange(12).reshape(4,3)\n",
    "hoga_ki_nahi(arr1, arr2)"
   ]
  },
  {
   "cell_type": "code",
   "execution_count": 6,
   "metadata": {
    "colab": {
     "base_uri": "https://localhost:8080/",
     "height": 34
    },
    "colab_type": "code",
    "id": "1-zWM8uyE5FW",
    "outputId": "780791f1-d038-474f-9482-9e0294601fb8"
   },
   "outputs": [
    {
     "data": {
      "text/plain": [
       "'Nahi Hoga'"
      ]
     },
     "execution_count": 6,
     "metadata": {
      "tags": []
     },
     "output_type": "execute_result"
    }
   ],
   "source": [
    "arr1 = np.arange(3).reshape(1,3)\n",
    "arr2 = np.arange(16).reshape(4,4)\n",
    "hoga_ki_nahi(arr1, arr2)"
   ]
  }
 ],
 "metadata": {
  "colab": {
   "collapsed_sections": [],
   "name": "Copy of GAZAL GARG - numpy-assignment-5.ipynb",
   "provenance": []
  },
  "kernelspec": {
   "display_name": "Python 3",
   "language": "python",
   "name": "python3"
  },
  "language_info": {
   "codemirror_mode": {
    "name": "ipython",
    "version": 3
   },
   "file_extension": ".py",
   "mimetype": "text/x-python",
   "name": "python",
   "nbconvert_exporter": "python",
   "pygments_lexer": "ipython3",
   "version": "3.7.4"
  }
 },
 "nbformat": 4,
 "nbformat_minor": 1
}
