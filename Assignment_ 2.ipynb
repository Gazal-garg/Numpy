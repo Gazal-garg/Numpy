{
  "nbformat": 4,
  "nbformat_minor": 0,
  "metadata": {
    "colab": {
      "name": "Copy_of_numpy_assignment_4.ipynb",
      "provenance": [],
      "collapsed_sections": []
    },
    "kernelspec": {
      "name": "python3",
      "display_name": "Python 3"
    }
  },
  "cells": [
    {
      "cell_type": "code",
      "metadata": {
        "id": "LYAs5f4MUyqX",
        "colab_type": "code",
        "colab": {}
      },
      "source": [
        "import numpy as np"
      ],
      "execution_count": 0,
      "outputs": []
    },
    {
      "cell_type": "code",
      "metadata": {
        "id": "kith96zaU3v4",
        "colab_type": "code",
        "outputId": "b6e047b3-9c95-4a37-98fd-143b3c36ec3d",
        "colab": {
          "base_uri": "https://localhost:8080/",
          "height": 87
        }
      },
      "source": [
        "arr1=np.arange(20).reshape(4,5)\n",
        "arr1"
      ],
      "execution_count": 0,
      "outputs": [
        {
          "output_type": "execute_result",
          "data": {
            "text/plain": [
              "array([[ 0,  1,  2,  3,  4],\n",
              "       [ 5,  6,  7,  8,  9],\n",
              "       [10, 11, 12, 13, 14],\n",
              "       [15, 16, 17, 18, 19]])"
            ]
          },
          "metadata": {
            "tags": []
          },
          "execution_count": 2
        }
      ]
    },
    {
      "cell_type": "code",
      "metadata": {
        "id": "hSQuEs7WVpXk",
        "colab_type": "code",
        "outputId": "39246b44-d218-4ac8-92df-d2a53649e1ca",
        "colab": {
          "base_uri": "https://localhost:8080/",
          "height": 85
        }
      },
      "source": [
        "# Q1 Write a numpy code to swap col1([0,5,10,15]) with col4([3,8,13,18])\n",
        "# Hint----> Fancy Indexig\n",
        "import numpy as np\n",
        "arr1=np.arange(20).reshape(4,5)\n",
        "arr1\n",
        "aarr1[:,[0,3]]= arr1[:,[3,0]]\n",
        "arr1\n"
      ],
      "execution_count": 0,
      "outputs": [
        {
          "output_type": "execute_result",
          "data": {
            "text/plain": [
              "array([[ 3,  1,  2,  0,  4],\n",
              "       [ 8,  6,  7,  5,  9],\n",
              "       [13, 11, 12, 10, 14],\n",
              "       [18, 16, 17, 15, 19]])"
            ]
          },
          "metadata": {
            "tags": []
          },
          "execution_count": 9
        }
      ]
    },
    {
      "cell_type": "code",
      "metadata": {
        "id": "qzrMoxJSWOEm",
        "colab_type": "code",
        "outputId": "10b60eab-68b9-470a-9844-08c2f851c124",
        "colab": {
          "base_uri": "https://localhost:8080/",
          "height": 85
        }
      },
      "source": [
        "# Q2 Write a numpy code to reverse the rows of arr1\n",
        "# The output should be [15, 16, 17, 18, 19] as first row and [ 0,  1,  2,  3,  4] as last row\n",
        "import numpy as np\n",
        "arr1=np.arange(20).reshape(4,5)\n",
        "arr1\n",
        "arr1[[0,3],:]=arr1[[3,0],:]\n",
        "arr1"
      ],
      "execution_count": 0,
      "outputs": [
        {
          "output_type": "execute_result",
          "data": {
            "text/plain": [
              "array([[15, 16, 17, 18, 19],\n",
              "       [ 5,  6,  7,  8,  9],\n",
              "       [10, 11, 12, 13, 14],\n",
              "       [ 0,  1,  2,  3,  4]])"
            ]
          },
          "metadata": {
            "tags": []
          },
          "execution_count": 14
        }
      ]
    },
    {
      "cell_type": "code",
      "metadata": {
        "id": "qU9DW6vQWivF",
        "colab_type": "code",
        "outputId": "3d706bd7-c7aa-4c8e-a6a9-d39df165120b",
        "colab": {
          "base_uri": "https://localhost:8080/",
          "height": 69
        }
      },
      "source": [
        "arr2=np.array([[1,2,np.nan],[4,5,6],[np.nan,np.nan,9]])\n",
        "arr2"
      ],
      "execution_count": 0,
      "outputs": [
        {
          "output_type": "execute_result",
          "data": {
            "text/plain": [
              "array([[ 1.,  2., nan],\n",
              "       [ 4.,  5.,  6.],\n",
              "       [nan, nan,  9.]])"
            ]
          },
          "metadata": {
            "tags": []
          },
          "execution_count": 15
        }
      ]
    },
    {
      "cell_type": "code",
      "metadata": {
        "id": "V9pLugRlXZCV",
        "colab_type": "code",
        "outputId": "5e5a63f2-524a-40bf-e842-43ca3f766e64",
        "colab": {
          "base_uri": "https://localhost:8080/",
          "height": 68
        }
      },
      "source": [
        "# Q3 Write a code to replace all the nan(missing values) of arr2 with the mean of arr2\n",
        "import numpy as np\n",
        "arr2=np.array([[1,2,np.nan],[4,5,6],[np.nan,np.nan,9]])\n",
        "arr2\n",
        "me=np.nanmean(arr2)\n",
        "arr2[np.isnan(arr2)]=me\n",
        "arr2\n",
        "\n",
        "\n",
        "\n",
        "\n",
        "\n"
      ],
      "execution_count": 0,
      "outputs": [
        {
          "output_type": "execute_result",
          "data": {
            "text/plain": [
              "array([[1. , 2. , 4.5],\n",
              "       [4. , 5. , 6. ],\n",
              "       [4.5, 4.5, 9. ]])"
            ]
          },
          "metadata": {
            "tags": []
          },
          "execution_count": 4
        }
      ]
    },
    {
      "cell_type": "code",
      "metadata": {
        "id": "F3tUsOivZ6Wf",
        "colab_type": "code",
        "outputId": "7c89d9c3-c3be-4866-d2e9-a3ba8f9c62c8",
        "colab": {
          "base_uri": "https://localhost:8080/",
          "height": 104
        }
      },
      "source": [
        "arr3=np.random.randint(low=1,high=100,size=20).reshape(5,4)\n",
        "arr3"
      ],
      "execution_count": 0,
      "outputs": [
        {
          "output_type": "execute_result",
          "data": {
            "text/plain": [
              "array([[22, 86, 19, 79],\n",
              "       [54, 51, 72, 60],\n",
              "       [ 7, 44, 88, 85],\n",
              "       [25, 85, 33, 66],\n",
              "       [19, 65, 23, 48]])"
            ]
          },
          "metadata": {
            "tags": []
          },
          "execution_count": 17
        }
      ]
    },
    {
      "cell_type": "code",
      "metadata": {
        "id": "c85i8ltqaWkl",
        "colab_type": "code",
        "colab": {}
      },
      "source": [
        ""
      ],
      "execution_count": 0,
      "outputs": []
    },
    {
      "cell_type": "code",
      "metadata": {
        "id": "HzeC03N6aQpx",
        "colab_type": "code",
        "outputId": "51652ad6-56cc-44b1-abaa-896b83f10e47",
        "colab": {
          "base_uri": "https://localhost:8080/",
          "height": 119
        }
      },
      "source": [
        "# Q4 Write a code which can fetch all items from arr3 which are either greater than 25 or a multiple of 3\n",
        "import numpy as np\n",
        "arr3=np.random.randint(low=1,high=100,size=20).reshape(5,4)\n",
        "print(arr3)\n",
        "arr3[(arr3>25)|(arr3%3==0)]\n",
        "\n",
        "  "
      ],
      "execution_count": 0,
      "outputs": [
        {
          "output_type": "stream",
          "text": [
            "[[22  9  5 29]\n",
            " [98 78 56 43]\n",
            " [16 28  9 99]\n",
            " [83 57  4 48]\n",
            " [17 61  7 13]]\n"
          ],
          "name": "stdout"
        },
        {
          "output_type": "execute_result",
          "data": {
            "text/plain": [
              "array([ 9, 29, 98, 78, 56, 43, 28,  9, 99, 83, 57, 48, 61])"
            ]
          },
          "metadata": {
            "tags": []
          },
          "execution_count": 5
        }
      ]
    },
    {
      "cell_type": "code",
      "metadata": {
        "id": "PxcxU2ACa9Ri",
        "colab_type": "code",
        "colab": {}
      },
      "source": [
        "# Q5 Write a code to find the 10th, 25th, 50th(median) percentile of arr3\n",
        "# Percentiles are a very important concept in Statistics. If you don't know about it refer the video below\n",
        "# https://www.youtube.com/watch?v=Snf6Wpn-L4c\n",
        "# Hint: to solve this function google np.percentile()"
      ],
      "execution_count": 0,
      "outputs": []
    },
    {
      "cell_type": "code",
      "metadata": {
        "id": "_8moTHWYcDCt",
        "colab_type": "code",
        "outputId": "60dda810-b31c-4049-a49f-83e1f6092540",
        "colab": {
          "base_uri": "https://localhost:8080/",
          "height": 153
        }
      },
      "source": [
        "import numpy as np\n",
        "arr3=np.random.randint(low=1,high=100,size=20).reshape(5,4)\n",
        "print(arr3)\n",
        "print(\"10th percentile of an array: \",np.percentile(arr3,10))\n",
        "print(\"25th percentile of an array: \",np.percentile(arr3,25))\n",
        "print(\"50th percentile of an array: \",np.percentile(arr3,50))\n",
        "\n",
        "\n",
        "\n",
        "\n",
        "\n"
      ],
      "execution_count": 0,
      "outputs": [
        {
          "output_type": "stream",
          "text": [
            "[[ 6 23 57 12]\n",
            " [65 99  2 67]\n",
            " [57 59 34 19]\n",
            " [44  6 50 64]\n",
            " [29 26 43 57]]\n",
            "10th percentile of an array:  6.0\n",
            "25th percentile of an array:  22.0\n",
            "50th percentile of an array:  43.5\n"
          ],
          "name": "stdout"
        }
      ]
    }
  ]
}